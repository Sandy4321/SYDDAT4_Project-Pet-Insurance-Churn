{
 "cells": [
  {
   "cell_type": "markdown",
   "metadata": {},
   "source": [
    "# Churn model for Insurance Company\n",
    "\n",
    "The first attempt will be to try to predict the drivers of churn based on a classification method. The data contains flags relevant to customers demographics, claim and service behaviour and policy characteristics."
   ]
  },
  {
   "cell_type": "code",
   "execution_count": 1,
   "metadata": {
    "collapsed": true
   },
   "outputs": [],
   "source": [
    "import pandas as pd"
   ]
  },
  {
   "cell_type": "markdown",
   "metadata": {},
   "source": [
    "###### ** Changes from dataset version 2 to version 6:**\n",
    "\n",
    "The data source had to be changed in order to address few issues/opportunities:\n",
    "- the field AvgTurnaround had too many null values. Considering that only customers who claim will have this information, I couldn't find a way to keep the information in. So, for this reason it has been excluded from the datased\n",
    "- the field CXMonthsFromRenewal also contained too many null values. The objective of the field is to provide the number of months that the policy is in the policy period, which expires every 12 months. There is a hypothesis that indicates that the customers are more likely to cancel when their policy is about to expiry\n",
    "- the data size - reduce to only use policies with 0 to 5 years of tenure\n",
    "- added data about latest claim and further demographics\n",
    "\n",
    "This version of the notebook has been created in order to address the changes to be made in the categorical variables\n"
   ]
  },
  {
   "cell_type": "code",
   "execution_count": 60,
   "metadata": {
    "collapsed": false
   },
   "outputs": [],
   "source": [
    "policies = pd.read_table('ChurnModelDatasetV6.txt',index_col='no_')"
   ]
  },
  {
   "cell_type": "code",
   "execution_count": 61,
   "metadata": {
    "collapsed": false
   },
   "outputs": [
    {
     "name": "stdout",
     "output_type": "stream",
     "text": [
      "<class 'pandas.core.frame.DataFrame'>\n",
      "Int64Index: 267377 entries, 459905 to 393303\n",
      "Data columns (total 37 columns):\n",
      "Cancelled                      267377 non-null int64\n",
      "PlanType                       267377 non-null object\n",
      "ClaimedInThePast               267377 non-null int64\n",
      "BenefitToClaimRatio            267377 non-null float64\n",
      "irsd_decile                    265673 non-null float64\n",
      "premium payment period code    267377 non-null object\n",
      "payment method code            267377 non-null object\n",
      "InsuredGender                  267377 non-null object\n",
      "premium                        267377 non-null float64\n",
      "PremiumDecile                  267377 non-null int64\n",
      "breed risk group               267377 non-null int64\n",
      "CXMonthsFromRenewal            267377 non-null int64\n",
      "TenureInMonths                 267377 non-null int64\n",
      "PetAgeInMonths                 267377 non-null int64\n",
      "ClientAgeInMonths              267377 non-null int64\n",
      "SalesChannel                   267377 non-null object\n",
      "pet agegroup when join         267377 non-null object\n",
      "client agegroup when join      267377 non-null object\n",
      "NumberCalls                    267377 non-null int64\n",
      "ClaimReviews                   267377 non-null int64\n",
      "MonthsSinceLastClaimReview     267377 non-null int64\n",
      "LastReviewOutcome              267352 non-null object\n",
      "PortalUser                     267377 non-null int64\n",
      "OtherMembershipNumber          267377 non-null int64\n",
      "species code                   267377 non-null object\n",
      "State                          267377 non-null object\n",
      "Insured Gender                 267377 non-null object\n",
      "Brand                          267377 non-null object\n",
      "OtherPets                      267377 non-null int64\n",
      "MOnthsSinceLastClaim           267377 non-null int64\n",
      "LastClaimStatus                267377 non-null object\n",
      "Ntile5LastClaimAmount          267377 non-null int64\n",
      "Ntile5LastPaidAmount           267377 non-null int64\n",
      "petAgeInYears                  267377 non-null int64\n",
      "ClientAgeInYears               267377 non-null int64\n",
      "ClientAgeInGroup               267377 non-null object\n",
      "PetAgeGroup                    267377 non-null object\n",
      "dtypes: float64(3), int64(19), object(15)\n",
      "memory usage: 77.5+ MB\n"
     ]
    }
   ],
   "source": [
    "### policies.shape\n",
    "#policies.values            # underlying numpy array\n",
    "policies.info() "
   ]
  },
  {
   "cell_type": "markdown",
   "metadata": {},
   "source": [
    "**Interpreting the quantiles**\n",
    "- Ntile5LastClaimAmount - 5 tile, 1 = lowest value\n",
    "- Ntile5LastPaidAmount - 5 tile, 1 = lowest value\n",
    "- PremiumDecile - 10 tile, 1 = lowest value"
   ]
  },
  {
   "cell_type": "code",
   "execution_count": 62,
   "metadata": {
    "collapsed": false
   },
   "outputs": [
    {
     "name": "stdout",
     "output_type": "stream",
     "text": [
      "<class 'pandas.core.frame.DataFrame'>\n",
      "Int64Index: 267377 entries, 459905 to 393303\n",
      "Data columns (total 30 columns):\n",
      "Cancelled                      267377 non-null int64\n",
      "PlanType                       267377 non-null object\n",
      "ClaimedInThePast               267377 non-null int64\n",
      "BenefitToClaimRatio            267377 non-null float64\n",
      "irsd_decile                    265673 non-null float64\n",
      "premium_payment_period_code    267377 non-null object\n",
      "payment_method_code            267377 non-null object\n",
      "InsuredGender                  267377 non-null object\n",
      "PremiumDecile                  267377 non-null int64\n",
      "breed_risk_group               267377 non-null int64\n",
      "CXMonthsFromRenewal            267377 non-null int64\n",
      "TenureInMonths                 267377 non-null int64\n",
      "SalesChannel                   267377 non-null object\n",
      "pet_agegroup_when_join         267377 non-null object\n",
      "client_agegroup_when_join      267377 non-null object\n",
      "NumberCalls                    267377 non-null int64\n",
      "ClaimReviews                   267377 non-null int64\n",
      "MonthsSinceLastClaimReview     267377 non-null int64\n",
      "LastReviewOutcome              267352 non-null object\n",
      "PortalUser                     267377 non-null int64\n",
      "OtherMembershipNumber          267377 non-null int64\n",
      "species_code                   267377 non-null object\n",
      "State                          267377 non-null object\n",
      "OtherPets                      267377 non-null int64\n",
      "MOnthsSinceLastClaim           267377 non-null int64\n",
      "LastClaimStatus                267377 non-null object\n",
      "Ntile5LastClaimAmount          267377 non-null int64\n",
      "Ntile5LastPaidAmount           267377 non-null int64\n",
      "ClientAgeInGroup               267377 non-null object\n",
      "PetAgeGroup                    267377 non-null object\n",
      "dtypes: float64(2), int64(15), object(13)\n",
      "memory usage: 63.2+ MB\n"
     ]
    }
   ],
   "source": [
    "## remove columns that won't be used\n",
    "policies.columns = [c.replace(' ', '_') for c in policies.columns]\n",
    "policies.drop('premium', axis=1, inplace=True)\n",
    "policies.drop('ClientAgeInMonths', axis=1, inplace=True)\n",
    "policies.drop('PetAgeInMonths', axis=1, inplace=True)\n",
    "policies.drop('petAgeInYears', axis=1, inplace=True)\n",
    "policies.drop('ClientAgeInYears', axis=1, inplace=True)\n",
    "policies.drop('Insured_Gender', axis=1, inplace=True)\n",
    "policies.drop('Brand',axis=1,inplace=True)\n",
    "policies.info() "
   ]
  },
  {
   "cell_type": "code",
   "execution_count": 63,
   "metadata": {
    "collapsed": true
   },
   "outputs": [],
   "source": [
    "%matplotlib inline\n",
    "\n",
    "import numpy as np\n",
    "import matplotlib.pyplot as plt\n",
    "plt.style.use('ggplot') # This styles the graphs in a nicer format"
   ]
  },
  {
   "cell_type": "code",
   "execution_count": 64,
   "metadata": {
    "collapsed": false
   },
   "outputs": [
    {
     "data": {
      "text/plain": [
       "<matplotlib.text.Text at 0x139397a50>"
      ]
     },
     "execution_count": 64,
     "metadata": {},
     "output_type": "execute_result"
    },
    {
     "data": {
      "image/png": "[encoded data removed]",
      "text/plain": [
       "<matplotlib.figure.Figure at 0x11486e710>"
      ]
     },
     "metadata": {},
     "output_type": "display_data"
    }
   ],
   "source": [
    "policies[policies.Cancelled == 1].CXMonthsFromRenewal.plot(kind='hist', xlim=(0,15))\n",
    "#policies.CXMonthsFromRenewal.hist(by=policies.Cancelled, sharex=True, sharey=True)\n",
    "plt.xlabel('CXMonthsFromRenewal')\n"
   ]
  },
  {
   "cell_type": "code",
   "execution_count": 65,
   "metadata": {
    "collapsed": false
   },
   "outputs": [
    {
     "name": "stdout",
     "output_type": "stream",
     "text": [
      "<class 'pandas.core.frame.DataFrame'>\n",
      "Int64Index: 267377 entries, 459905 to 393303\n",
      "Data columns (total 30 columns):\n",
      "Cancelled                      267377 non-null int64\n",
      "PlanType                       267377 non-null object\n",
      "ClaimedInThePast               267377 non-null int64\n",
      "BenefitToClaimRatio            267377 non-null float64\n",
      "irsd_decile                    265673 non-null float64\n",
      "premium_payment_period_code    267377 non-null object\n",
      "payment_method_code            267377 non-null object\n",
      "InsuredGender                  267377 non-null object\n",
      "PremiumDecile                  267377 non-null int64\n",
      "breed_risk_group               267377 non-null int64\n",
      "CXMonthsFromRenewal            267377 non-null int64\n",
      "TenureInMonths                 267377 non-null int64\n",
      "SalesChannel                   267377 non-null object\n",
      "pet_agegroup_when_join         267377 non-null object\n",
      "client_agegroup_when_join      267377 non-null object\n",
      "NumberCalls                    267377 non-null int64\n",
      "ClaimReviews                   267377 non-null int64\n",
      "MonthsSinceLastClaimReview     267377 non-null int64\n",
      "LastReviewOutcome              267352 non-null object\n",
      "PortalUser                     267377 non-null int64\n",
      "OtherMembershipNumber          267377 non-null int64\n",
      "species_code                   267377 non-null object\n",
      "State                          267377 non-null object\n",
      "OtherPets                      267377 non-null int64\n",
      "MOnthsSinceLastClaim           267377 non-null int64\n",
      "LastClaimStatus                267377 non-null object\n",
      "Ntile5LastClaimAmount          267377 non-null int64\n",
      "Ntile5LastPaidAmount           267377 non-null int64\n",
      "ClientAgeInGroup               267377 non-null object\n",
      "PetAgeGroup                    267377 non-null object\n",
      "dtypes: float64(2), int64(15), object(13)\n",
      "memory usage: 63.2+ MB\n"
     ]
    },
    {
     "data": {
      "text/plain": [
       "01-02     65676\n",
       "02-03     49316\n",
       "00-01     49113\n",
       "03-04     24473\n",
       "04-05     18301\n",
       "05-06     15230\n",
       "06-07     12523\n",
       "07-08      9971\n",
       "08-09      8438\n",
       "09-10      5603\n",
       "11-100     5359\n",
       "10-11      3374\n",
       "Name: PetAgeGroup, dtype: int64"
      ]
     },
     "execution_count": 65,
     "metadata": {},
     "output_type": "execute_result"
    },
    {
     "data": {
      "image/png": "[encoded data removed]",
      "text/plain": [
       "<matplotlib.figure.Figure at 0x11491cd50>"
      ]
     },
     "metadata": {},
     "output_type": "display_data"
    }
   ],
   "source": [
    "#transforming the string values into numeric values\n",
    "\n",
    "policies.LastClaimStatus.value_counts().plot(kind='bar', title='Last Claim Status')\n",
    "policies.InsuredGender.value_counts().plot(kind='bar', title='Gender')\n",
    "policies.PlanType.value_counts().plot(kind='bar',title='PlanType')\n",
    "policies.PlanType.value_counts()\n",
    "policies.info()\n",
    "policies.premium_payment_period_code.value_counts()\n",
    "policies.payment_method_code.value_counts()\n",
    "policies.species_code.value_counts()\n",
    "policies.State.value_counts()\n",
    "policies.ClientAgeInGroup.value_counts()\n",
    "policies.PetAgeGroup.value_counts()"
   ]
  },
  {
   "cell_type": "code",
   "execution_count": 66,
   "metadata": {
    "collapsed": false
   },
   "outputs": [
    {
     "data": {
      "text/plain": [
       "<matplotlib.axes._subplots.AxesSubplot at 0x146c0dd50>"
      ]
     },
     "execution_count": 66,
     "metadata": {},
     "output_type": "execute_result"
    },
    {
     "data": {
      "image/png": "[encoded data removed]",
      "text/plain": [
       "<matplotlib.figure.Figure at 0x11486e1d0>"
      ]
     },
     "metadata": {},
     "output_type": "display_data"
    }
   ],
   "source": [
    "# check for missing values\n",
    "policies.dropna(inplace=True)\n",
    "\n",
    "policies.isnull().sum()\n",
    "\n",
    "policies.irsd_decile.value_counts().plot(kind='bar', title='Seifa Score')"
   ]
  },
  {
   "cell_type": "code",
   "execution_count": 105,
   "metadata": {
    "collapsed": false
   },
   "outputs": [
    {
     "data": {
      "text/plain": [
       "<matplotlib.axes._subplots.AxesSubplot at 0x1246ebc50>"
      ]
     },
     "execution_count": 105,
     "metadata": {},
     "output_type": "execute_result"
    },
    {
     "data": {
      "image/png": "[encoded data removed]",
      "text/plain": [
       "<matplotlib.figure.Figure at 0x126f25610>"
      ]
     },
     "metadata": {},
     "output_type": "display_data"
    }
   ],
   "source": [
    "policies.PetAgeGroup.value_counts().plot(kind='bar', title='PetAgeGroup')\n"
   ]
  },
  {
   "cell_type": "markdown",
   "metadata": {},
   "source": [
    "## Treating Categorical Data"
   ]
  },
  {
   "cell_type": "code",
   "execution_count": 70,
   "metadata": {
    "collapsed": false
   },
   "outputs": [
    {
     "data": {
      "text/plain": [
       "1    193226\n",
       "0     72423\n",
       "Name: InsGenderFemale, dtype: int64"
      ]
     },
     "execution_count": 70,
     "metadata": {},
     "output_type": "execute_result"
    }
   ],
   "source": [
    "# the categorical variables had been initially transformed to several numbers. In this version I will try to turn them into boolean values\n",
    "\n",
    "policies.InsuredGender.value_counts()\n",
    "policies['InsGenderFemale'] =  policies.InsuredGender.map({'Male':0, 'Female':1})\n",
    "\n",
    "policies.InsGenderFemale.value_counts()"
   ]
  },
  {
   "cell_type": "code",
   "execution_count": 71,
   "metadata": {
    "collapsed": false
   },
   "outputs": [
    {
     "data": {
      "text/plain": [
       "1    224477\n",
       "0     41172\n",
       "Name: SpeciesDog, dtype: int64"
      ]
     },
     "execution_count": 71,
     "metadata": {},
     "output_type": "execute_result"
    }
   ],
   "source": [
    "#policies.species_code.replace(['CANINE','FELINE'],[1,2], inplace=True)\n",
    "policies.species_code.value_counts()\n",
    "policies['SpeciesDog'] =  policies.species_code.map({'FELINE':0, 'CANINE':1})\n",
    "policies.SpeciesDog.value_counts()"
   ]
  },
  {
   "cell_type": "code",
   "execution_count": 72,
   "metadata": {
    "collapsed": false
   },
   "outputs": [
    {
     "data": {
      "text/plain": [
       "0    248029\n",
       "1     17620\n",
       "Name: LastClaimDenied, dtype: int64"
      ]
     },
     "execution_count": 72,
     "metadata": {},
     "output_type": "execute_result"
    }
   ],
   "source": [
    "#policies.LastClaimStatus.replace(['No Claims', 'Accepted with Pay', 'Denied', 'Accepted no Pay', 'Other'],  [1, 2, 3, 4, 0], inplace=True)\n",
    "policies.LastClaimStatus.value_counts()\n",
    "policies['LastClaimAcceptedNoPay'] =  policies.LastClaimStatus.map({'No Claims':0,'Accepted with Pay':0,'Denied':0,'Accepted no Pay':1,'Other':0}) \n",
    "policies['LastClaimAcceptedPay'] =  policies.LastClaimStatus.map({'No Claims':0,'Accepted with Pay':1,'Denied':0,'Accepted no Pay':0,'Other':0}) \n",
    "policies['LastClaimDenied'] =  policies.LastClaimStatus.map({'No Claims':0,'Accepted with Pay':0,'Denied':1,'Accepted no Pay':0,'Other':0}) \n",
    "\n",
    "policies.LastClaimDenied.value_counts()"
   ]
  },
  {
   "cell_type": "code",
   "execution_count": 73,
   "metadata": {
    "collapsed": false
   },
   "outputs": [
    {
     "data": {
      "text/plain": [
       "0    237658\n",
       "1     27991\n",
       "Name: PayFreqAnnual, dtype: int64"
      ]
     },
     "execution_count": 73,
     "metadata": {},
     "output_type": "execute_result"
    }
   ],
   "source": [
    "#policies.premium_payment_period_code.replace(['FORTNIGHTL','MONTHLY','ANNUALLY'],[1,2,3], inplace=True)\n",
    "policies.premium_payment_period_code.value_counts()\n",
    "policies['PayFreqFortnight'] =  policies.premium_payment_period_code.map({'FORTNIGHTL':1,'MONTHLY':0,'ANNUALLY':0}) \n",
    "policies['PayFreqMonth'] =  policies.premium_payment_period_code.map({'FORTNIGHTL':0,'MONTHLY':1,'ANNUALLY':0}) \n",
    "policies['PayFreqAnnual'] =  policies.premium_payment_period_code.map({'FORTNIGHTL':0,'MONTHLY':0,'ANNUALLY':1}) \n",
    "\n",
    "policies.PayFreqAnnual.value_counts()"
   ]
  },
  {
   "cell_type": "code",
   "execution_count": 79,
   "metadata": {
    "collapsed": false
   },
   "outputs": [
    {
     "data": {
      "text/plain": [
       "0    146332\n",
       "1    119317\n",
       "Name: PayMethBank, dtype: int64"
      ]
     },
     "execution_count": 79,
     "metadata": {},
     "output_type": "execute_result"
    }
   ],
   "source": [
    "#policies.payment_method_code.replace(['CC','BANK','CHEQUE'],[1,2,3], inplace=True)\n",
    "policies.payment_method_code.value_counts()\n",
    "policies['PayMethCC'] =  policies.payment_method_code.map({'CC':1,'BANK':0,'CHEQUE':0}) \n",
    "\n",
    "#due to low volumne of cheque, it has been put together with Bank\n",
    "policies['PayMethBank'] =  policies.payment_method_code.map({'CC':0,'BANK':1,'CHEQUE':1}) \n",
    "\n",
    "policies.PayMethCC.value_counts()"
   ]
  },
  {
   "cell_type": "code",
   "execution_count": 82,
   "metadata": {
    "collapsed": false
   },
   "outputs": [
    {
     "data": {
      "text/plain": [
       "0    198566\n",
       "1     67083\n",
       "Name: StateNSW, dtype: int64"
      ]
     },
     "execution_count": 82,
     "metadata": {},
     "output_type": "execute_result"
    }
   ],
   "source": [
    "#policies.State.replace(['NSW','VIC','QLD','WA','SA','ACT','TAS','NT'],[1,2,3,4,5,6,7,8], inplace=True)\n",
    "policies.State.value_counts()\n",
    "policies['StateNSW'] =  policies.State.map({'NSW':1,'VIC':0,'QLD':0,'WA':0,'SA':0,'ACT':0,'TAS':0,'NT':0}) \n",
    "policies['StateVIC'] =  policies.State.map({'NSW':0,'VIC':1,'QLD':0,'WA':0,'SA':0,'ACT':0,'TAS':0,'NT':0}) \n",
    "policies['StateQLD'] =  policies.State.map({'NSW':0,'VIC':0,'QLD':1,'WA':0,'SA':0,'ACT':0,'TAS':0,'NT':0}) \n",
    "policies['StateWA'] =  policies.State.map({'NSW':0,'VIC':0,'QLD':0,'WA':1,'SA':0,'ACT':0,'TAS':0,'NT':0}) \n",
    "policies['StateSA'] =  policies.State.map({'NSW':0,'VIC':0,'QLD':0,'WA':0,'SA':1,'ACT':0,'TAS':0,'NT':0}) \n",
    "policies['StateACT'] =  policies.State.map({'NSW':0,'VIC':0,'QLD':0,'WA':0,'SA':0,'ACT':1,'TAS':0,'NT':0}) \n",
    "policies['StateTAS'] =  policies.State.map({'NSW':0,'VIC':0,'QLD':0,'WA':0,'SA':0,'ACT':0,'TAS':1,'NT':0}) \n",
    "policies['StateNT'] =  policies.State.map({'NSW':0,'VIC':0,'QLD':0,'WA':0,'SA':0,'ACT':0,'TAS':0,'NT':1}) \n",
    "\n",
    "policies.StateNSW.value_counts()"
   ]
  },
  {
   "cell_type": "code",
   "execution_count": 85,
   "metadata": {
    "collapsed": false
   },
   "outputs": [
    {
     "data": {
      "text/plain": [
       "0    265611\n",
       "1        38\n",
       "Name: PlanOther, dtype: int64"
      ]
     },
     "execution_count": 85,
     "metadata": {},
     "output_type": "execute_result"
    }
   ],
   "source": [
    "#policies.PlanType.replace(['Accident & GVE', 'Accident & GVE & Routine','Accident','ASIA Accident & GVE',\n",
    "#                         'ASIA Accident & GVE & Routine','ASIA Accident','Accident & Routine','GVE & Routine','GVE'], \n",
    "#                          [1, 2,3,1,2,3,4,4,4], inplace=True)\n",
    "\n",
    "policies.PlanType.value_counts()\n",
    "policies['PlanAccGVERout'] =  policies.PlanType.map({'Accident & GVE':0,'Accident & GVE & Routine':1,'Accident':0,\n",
    "                                                     'ASIA Accident & GVE':0,'ASIA Accident & GVE & Routine':1,\n",
    "                                                     'ASIA Accident':0,'Accident & Routine':0,'GVE':0,'GVE & Routine':0}) \n",
    "\n",
    "policies['PlanAccOnly'] =  policies.PlanType.map({'Accident & GVE':0,'Accident & GVE & Routine':0,'Accident':1,\n",
    "                                                     'ASIA Accident & GVE':0,'ASIA Accident & GVE & Routine':0,\n",
    "                                                     'ASIA Accident':1,'Accident & Routine':0,'GVE':0,'GVE & Routine':0}) \n",
    "\n",
    "policies['PlanAccGVE'] =  policies.PlanType.map({'Accident & GVE':1,'Accident & GVE & Routine':0,'Accident':0,\n",
    "                                                     'ASIA Accident & GVE':1,'ASIA Accident & GVE & Routine':0,\n",
    "                                                     'ASIA Accident':0,'Accident & Routine':0,'GVE':0,'GVE & Routine':0}) \n",
    "\n",
    "policies['PlanOther'] =  policies.PlanType.map({'Accident & GVE':0,'Accident & GVE & Routine':0,'Accident':0,\n",
    "                                                     'ASIA Accident & GVE':0,'ASIA Accident & GVE & Routine':0,\n",
    "                                                     'ASIA Accident':0,'Accident & Routine':1,'GVE':1,'GVE & Routine':1}) \n",
    "\n",
    "\n",
    "policies.PlanOther.value_counts()"
   ]
  },
  {
   "cell_type": "code",
   "execution_count": 89,
   "metadata": {
    "collapsed": false
   },
   "outputs": [
    {
     "data": {
      "text/plain": [
       "0    263200\n",
       "1      2449\n",
       "Name: ClientAge00to19, dtype: int64"
      ]
     },
     "execution_count": 89,
     "metadata": {},
     "output_type": "execute_result"
    }
   ],
   "source": [
    "#policies.ClientAgeInGroup.replace(['00-19','20-29','30-39','40-49','50-59','60-100'],[1,2,3,4,5,6],inplace=True)\n",
    "\n",
    "policies.ClientAgeInGroup.value_counts()\n",
    "policies['ClientAge00to19'] =  policies.ClientAgeInGroup.map({'00-19':1,'20-29':0,'30-39':0,'40-49':0,'50-59':0,'60-100':0}) \n",
    "policies['ClientAge20to29'] =  policies.ClientAgeInGroup.map({'00-19':0,'20-29':1,'30-39':0,'40-49':0,'50-59':0,'60-100':0}) \n",
    "policies['ClientAge30to39'] =  policies.ClientAgeInGroup.map({'00-19':0,'20-29':0,'30-39':1,'40-49':0,'50-59':0,'60-100':0}) \n",
    "policies['ClientAge40to49'] =  policies.ClientAgeInGroup.map({'00-19':0,'20-29':0,'30-39':0,'40-49':1,'50-59':0,'60-100':0}) \n",
    "policies['ClientAge50to59'] =  policies.ClientAgeInGroup.map({'00-19':0,'20-29':0,'30-39':0,'40-49':0,'50-59':1,'60-100':0}) \n",
    "policies['ClientAge60Plus'] =  policies.ClientAgeInGroup.map({'00-19':0,'20-29':0,'30-39':0,'40-49':0,'50-59':0,'60-100':1}) \n",
    "\n",
    "\n",
    "policies.ClientAge00to19.value_counts()\n"
   ]
  },
  {
   "cell_type": "code",
   "execution_count": 108,
   "metadata": {
    "collapsed": false
   },
   "outputs": [
    {
     "data": {
      "text/plain": [
       "0    216819\n",
       "1     48830\n",
       "Name: PetAge00to01, dtype: int64"
      ]
     },
     "execution_count": 108,
     "metadata": {},
     "output_type": "execute_result"
    }
   ],
   "source": [
    "#policies.PetAgeGroup.replace(['00-01','01-02','02-03','03-04','04-05','05-06','06-07','07-08','08-09','09-10','10-11','11-100'],[1,2,3,4,5,6,7,8,9,10,11,12],inplace=True)     \n",
    "policies.PetAgeGroup.value_counts()\n",
    "\n",
    "policies['PetAge00to01'] =  policies.PetAgeGroup.map({'00-01':1,'01-02':0,'02-03':0,'03-04':0,'04-05':0,'05-06':0,'06-07':0,'07-08':0,'08-09':0,'09-10':0,'10-11':0,'11-100':0}) \n",
    "policies['PetAge01to02'] =  policies.PetAgeGroup.map({'00-01':0,'01-02':1,'02-03':0,'03-04':0,'04-05':0,'05-06':0,'06-07':0,'07-08':0,'08-09':0,'09-10':0,'10-11':0,'11-100':0}) \n",
    "policies['PetAge02to03'] =  policies.PetAgeGroup.map({'00-01':0,'01-02':0,'02-03':1,'03-04':0,'04-05':0,'05-06':0,'06-07':0,'07-08':0,'08-09':0,'09-10':0,'10-11':0,'11-100':0}) \n",
    "policies['PetAge03to04'] =  policies.PetAgeGroup.map({'00-01':0,'01-02':0,'02-03':0,'03-04':1,'04-05':0,'05-06':0,'06-07':0,'07-08':0,'08-09':0,'09-10':0,'10-11':0,'11-100':0}) \n",
    "policies['PetAge04to05'] =  policies.PetAgeGroup.map({'00-01':0,'01-02':0,'02-03':0,'03-04':0,'04-05':1,'05-06':0,'06-07':0,'07-08':0,'08-09':0,'09-10':0,'10-11':0,'11-100':0}) \n",
    "policies['PetAge05to06'] =  policies.PetAgeGroup.map({'00-01':0,'01-02':0,'02-03':0,'03-04':0,'04-05':0,'05-06':1,'06-07':0,'07-08':0,'08-09':0,'09-10':0,'10-11':0,'11-100':0}) \n",
    "policies['PetAge06to07'] =  policies.PetAgeGroup.map({'00-01':0,'01-02':0,'02-03':0,'03-04':0,'04-05':0,'05-06':0,'06-07':1,'07-08':0,'08-09':0,'09-10':0,'10-11':0,'11-100':0}) \n",
    "policies['PetAge07to08'] =  policies.PetAgeGroup.map({'00-01':0,'01-02':0,'02-03':0,'03-04':0,'04-05':0,'05-06':0,'06-07':0,'07-08':1,'08-09':0,'09-10':0,'10-11':0,'11-100':0}) \n",
    "policies['PetAge08to09'] =  policies.PetAgeGroup.map({'00-01':0,'01-02':0,'02-03':0,'03-04':0,'04-05':0,'05-06':0,'06-07':0,'07-08':0,'08-09':1,'09-10':0,'10-11':0,'11-100':0}) \n",
    "policies['PetAge09to10'] =  policies.PetAgeGroup.map({'00-01':0,'01-02':0,'02-03':0,'03-04':0,'04-05':0,'05-06':0,'06-07':0,'07-08':0,'08-09':0,'09-10':1,'10-11':0,'11-100':0}) \n",
    "policies['PetAge10Plus'] =  policies.PetAgeGroup.map({'00-01':0,'01-02':0,'02-03':0,'03-04':0,'04-05':0,'05-06':0,'06-07':0,'07-08':0,'08-09':0,'09-10':0,'10-11':1,'11-100':1}) \n",
    "\n",
    "policies.PetAge00to01.value_counts() ##48830"
   ]
  },
  {
   "cell_type": "code",
   "execution_count": 109,
   "metadata": {
    "collapsed": false
   },
   "outputs": [
    {
     "data": {
      "text/html": [
       "<div>\n",
       "<table border=\"1\" class=\"dataframe\">\n",
       "  <thead>\n",
       "    <tr style=\"text-align: right;\">\n",
       "      <th></th>\n",
       "      <th>Cancelled</th>\n",
       "      <th>ClaimedInThePast</th>\n",
       "      <th>BenefitToClaimRatio</th>\n",
       "      <th>irsd_decile</th>\n",
       "      <th>PremiumDecile</th>\n",
       "      <th>breed_risk_group</th>\n",
       "      <th>CXMonthsFromRenewal</th>\n",
       "      <th>TenureInMonths</th>\n",
       "      <th>NumberCalls</th>\n",
       "      <th>ClaimReviews</th>\n",
       "      <th>...</th>\n",
       "      <th>PetAge01to02</th>\n",
       "      <th>PetAge02to03</th>\n",
       "      <th>PetAge03to04</th>\n",
       "      <th>PetAge04to05</th>\n",
       "      <th>PetAge05to06</th>\n",
       "      <th>PetAge06to07</th>\n",
       "      <th>PetAge07to08</th>\n",
       "      <th>PetAge08to09</th>\n",
       "      <th>PetAge09to10</th>\n",
       "      <th>PetAge10Plus</th>\n",
       "    </tr>\n",
       "  </thead>\n",
       "  <tbody>\n",
       "    <tr>\n",
       "      <th>count</th>\n",
       "      <td>265649.000000</td>\n",
       "      <td>265649.000000</td>\n",
       "      <td>265649.000000</td>\n",
       "      <td>265649.000000</td>\n",
       "      <td>265649.000000</td>\n",
       "      <td>265649.000000</td>\n",
       "      <td>265649.000000</td>\n",
       "      <td>265649.000000</td>\n",
       "      <td>265649.000000</td>\n",
       "      <td>265649.000000</td>\n",
       "      <td>...</td>\n",
       "      <td>265649.000000</td>\n",
       "      <td>265649.000000</td>\n",
       "      <td>265649.000000</td>\n",
       "      <td>265649.000000</td>\n",
       "      <td>265649.000000</td>\n",
       "      <td>265649.000000</td>\n",
       "      <td>265649.000000</td>\n",
       "      <td>265649.000000</td>\n",
       "      <td>265649.000000</td>\n",
       "      <td>265649.000000</td>\n",
       "    </tr>\n",
       "    <tr>\n",
       "      <th>mean</th>\n",
       "      <td>0.276041</td>\n",
       "      <td>0.305877</td>\n",
       "      <td>0.115154</td>\n",
       "      <td>6.564877</td>\n",
       "      <td>5.501835</td>\n",
       "      <td>0.681968</td>\n",
       "      <td>9.716178</td>\n",
       "      <td>10.692143</td>\n",
       "      <td>1.801272</td>\n",
       "      <td>0.010111</td>\n",
       "      <td>...</td>\n",
       "      <td>0.245587</td>\n",
       "      <td>0.184322</td>\n",
       "      <td>0.091576</td>\n",
       "      <td>0.068474</td>\n",
       "      <td>0.056970</td>\n",
       "      <td>0.046866</td>\n",
       "      <td>0.037286</td>\n",
       "      <td>0.031527</td>\n",
       "      <td>0.020945</td>\n",
       "      <td>0.032633</td>\n",
       "    </tr>\n",
       "    <tr>\n",
       "      <th>std</th>\n",
       "      <td>0.447038</td>\n",
       "      <td>0.460779</td>\n",
       "      <td>0.235857</td>\n",
       "      <td>2.699829</td>\n",
       "      <td>2.871830</td>\n",
       "      <td>1.504581</td>\n",
       "      <td>4.181044</td>\n",
       "      <td>8.150653</td>\n",
       "      <td>2.992738</td>\n",
       "      <td>0.100044</td>\n",
       "      <td>...</td>\n",
       "      <td>0.430436</td>\n",
       "      <td>0.387747</td>\n",
       "      <td>0.288427</td>\n",
       "      <td>0.252558</td>\n",
       "      <td>0.231786</td>\n",
       "      <td>0.211353</td>\n",
       "      <td>0.189462</td>\n",
       "      <td>0.174736</td>\n",
       "      <td>0.143200</td>\n",
       "      <td>0.177675</td>\n",
       "    </tr>\n",
       "    <tr>\n",
       "      <th>min</th>\n",
       "      <td>0.000000</td>\n",
       "      <td>0.000000</td>\n",
       "      <td>0.000000</td>\n",
       "      <td>0.000000</td>\n",
       "      <td>1.000000</td>\n",
       "      <td>0.000000</td>\n",
       "      <td>0.000000</td>\n",
       "      <td>-6.000000</td>\n",
       "      <td>0.000000</td>\n",
       "      <td>0.000000</td>\n",
       "      <td>...</td>\n",
       "      <td>0.000000</td>\n",
       "      <td>0.000000</td>\n",
       "      <td>0.000000</td>\n",
       "      <td>0.000000</td>\n",
       "      <td>0.000000</td>\n",
       "      <td>0.000000</td>\n",
       "      <td>0.000000</td>\n",
       "      <td>0.000000</td>\n",
       "      <td>0.000000</td>\n",
       "      <td>0.000000</td>\n",
       "    </tr>\n",
       "    <tr>\n",
       "      <th>25%</th>\n",
       "      <td>0.000000</td>\n",
       "      <td>0.000000</td>\n",
       "      <td>0.000000</td>\n",
       "      <td>4.000000</td>\n",
       "      <td>3.000000</td>\n",
       "      <td>0.000000</td>\n",
       "      <td>10.000000</td>\n",
       "      <td>3.000000</td>\n",
       "      <td>0.000000</td>\n",
       "      <td>0.000000</td>\n",
       "      <td>...</td>\n",
       "      <td>0.000000</td>\n",
       "      <td>0.000000</td>\n",
       "      <td>0.000000</td>\n",
       "      <td>0.000000</td>\n",
       "      <td>0.000000</td>\n",
       "      <td>0.000000</td>\n",
       "      <td>0.000000</td>\n",
       "      <td>0.000000</td>\n",
       "      <td>0.000000</td>\n",
       "      <td>0.000000</td>\n",
       "    </tr>\n",
       "    <tr>\n",
       "      <th>50%</th>\n",
       "      <td>0.000000</td>\n",
       "      <td>0.000000</td>\n",
       "      <td>0.000000</td>\n",
       "      <td>7.000000</td>\n",
       "      <td>6.000000</td>\n",
       "      <td>0.000000</td>\n",
       "      <td>12.000000</td>\n",
       "      <td>10.000000</td>\n",
       "      <td>1.000000</td>\n",
       "      <td>0.000000</td>\n",
       "      <td>...</td>\n",
       "      <td>0.000000</td>\n",
       "      <td>0.000000</td>\n",
       "      <td>0.000000</td>\n",
       "      <td>0.000000</td>\n",
       "      <td>0.000000</td>\n",
       "      <td>0.000000</td>\n",
       "      <td>0.000000</td>\n",
       "      <td>0.000000</td>\n",
       "      <td>0.000000</td>\n",
       "      <td>0.000000</td>\n",
       "    </tr>\n",
       "    <tr>\n",
       "      <th>75%</th>\n",
       "      <td>1.000000</td>\n",
       "      <td>1.000000</td>\n",
       "      <td>0.000000</td>\n",
       "      <td>9.000000</td>\n",
       "      <td>8.000000</td>\n",
       "      <td>0.000000</td>\n",
       "      <td>12.000000</td>\n",
       "      <td>17.000000</td>\n",
       "      <td>2.000000</td>\n",
       "      <td>0.000000</td>\n",
       "      <td>...</td>\n",
       "      <td>0.000000</td>\n",
       "      <td>0.000000</td>\n",
       "      <td>0.000000</td>\n",
       "      <td>0.000000</td>\n",
       "      <td>0.000000</td>\n",
       "      <td>0.000000</td>\n",
       "      <td>0.000000</td>\n",
       "      <td>0.000000</td>\n",
       "      <td>0.000000</td>\n",
       "      <td>0.000000</td>\n",
       "    </tr>\n",
       "    <tr>\n",
       "      <th>max</th>\n",
       "      <td>1.000000</td>\n",
       "      <td>1.000000</td>\n",
       "      <td>1.100062</td>\n",
       "      <td>10.000000</td>\n",
       "      <td>10.000000</td>\n",
       "      <td>6.000000</td>\n",
       "      <td>15.000000</td>\n",
       "      <td>37.000000</td>\n",
       "      <td>138.000000</td>\n",
       "      <td>1.000000</td>\n",
       "      <td>...</td>\n",
       "      <td>1.000000</td>\n",
       "      <td>1.000000</td>\n",
       "      <td>1.000000</td>\n",
       "      <td>1.000000</td>\n",
       "      <td>1.000000</td>\n",
       "      <td>1.000000</td>\n",
       "      <td>1.000000</td>\n",
       "      <td>1.000000</td>\n",
       "      <td>1.000000</td>\n",
       "      <td>1.000000</td>\n",
       "    </tr>\n",
       "  </tbody>\n",
       "</table>\n",
       "<p>8 rows × 56 columns</p>\n",
       "</div>"
      ],
      "text/plain": [
       "           Cancelled  ClaimedInThePast  BenefitToClaimRatio    irsd_decile  \\\n",
       "count  265649.000000     265649.000000        265649.000000  265649.000000   \n",
       "mean        0.276041          0.305877             0.115154       6.564877   \n",
       "std         0.447038          0.460779             0.235857       2.699829   \n",
       "min         0.000000          0.000000             0.000000       0.000000   \n",
       "25%         0.000000          0.000000             0.000000       4.000000   \n",
       "50%         0.000000          0.000000             0.000000       7.000000   \n",
       "75%         1.000000          1.000000             0.000000       9.000000   \n",
       "max         1.000000          1.000000             1.100062      10.000000   \n",
       "\n",
       "       PremiumDecile  breed_risk_group  CXMonthsFromRenewal  TenureInMonths  \\\n",
       "count  265649.000000     265649.000000        265649.000000   265649.000000   \n",
       "mean        5.501835          0.681968             9.716178       10.692143   \n",
       "std         2.871830          1.504581             4.181044        8.150653   \n",
       "min         1.000000          0.000000             0.000000       -6.000000   \n",
       "25%         3.000000          0.000000            10.000000        3.000000   \n",
       "50%         6.000000          0.000000            12.000000       10.000000   \n",
       "75%         8.000000          0.000000            12.000000       17.000000   \n",
       "max        10.000000          6.000000            15.000000       37.000000   \n",
       "\n",
       "         NumberCalls   ClaimReviews      ...         PetAge01to02  \\\n",
       "count  265649.000000  265649.000000      ...        265649.000000   \n",
       "mean        1.801272       0.010111      ...             0.245587   \n",
       "std         2.992738       0.100044      ...             0.430436   \n",
       "min         0.000000       0.000000      ...             0.000000   \n",
       "25%         0.000000       0.000000      ...             0.000000   \n",
       "50%         1.000000       0.000000      ...             0.000000   \n",
       "75%         2.000000       0.000000      ...             0.000000   \n",
       "max       138.000000       1.000000      ...             1.000000   \n",
       "\n",
       "        PetAge02to03   PetAge03to04   PetAge04to05   PetAge05to06  \\\n",
       "count  265649.000000  265649.000000  265649.000000  265649.000000   \n",
       "mean        0.184322       0.091576       0.068474       0.056970   \n",
       "std         0.387747       0.288427       0.252558       0.231786   \n",
       "min         0.000000       0.000000       0.000000       0.000000   \n",
       "25%         0.000000       0.000000       0.000000       0.000000   \n",
       "50%         0.000000       0.000000       0.000000       0.000000   \n",
       "75%         0.000000       0.000000       0.000000       0.000000   \n",
       "max         1.000000       1.000000       1.000000       1.000000   \n",
       "\n",
       "        PetAge06to07   PetAge07to08   PetAge08to09   PetAge09to10  \\\n",
       "count  265649.000000  265649.000000  265649.000000  265649.000000   \n",
       "mean        0.046866       0.037286       0.031527       0.020945   \n",
       "std         0.211353       0.189462       0.174736       0.143200   \n",
       "min         0.000000       0.000000       0.000000       0.000000   \n",
       "25%         0.000000       0.000000       0.000000       0.000000   \n",
       "50%         0.000000       0.000000       0.000000       0.000000   \n",
       "75%         0.000000       0.000000       0.000000       0.000000   \n",
       "max         1.000000       1.000000       1.000000       1.000000   \n",
       "\n",
       "        PetAge10Plus  \n",
       "count  265649.000000  \n",
       "mean        0.032633  \n",
       "std         0.177675  \n",
       "min         0.000000  \n",
       "25%         0.000000  \n",
       "50%         0.000000  \n",
       "75%         0.000000  \n",
       "max         1.000000  \n",
       "\n",
       "[8 rows x 56 columns]"
      ]
     },
     "execution_count": 109,
     "metadata": {},
     "output_type": "execute_result"
    }
   ],
   "source": [
    "policies.drop('InsuredGender', axis=1, inplace=True)\n",
    "policies.drop('species_code', axis=1, inplace=True)\n",
    "policies.drop('LastClaimStatus', axis=1, inplace=True)\n",
    "policies.drop('premium_payment_period_code', axis=1, inplace=True)\n",
    "policies.drop('payment_method_code', axis=1, inplace=True)\n",
    "policies.drop('PayMethCheque', axis=1, inplace=True)\n",
    "policies.drop('State', axis=1, inplace=True)\n",
    "policies.drop('PlanType', axis=1, inplace=True)\n",
    "policies.drop('ClientAgeInGroup', axis=1, inplace=True)\n",
    "policies.drop('PetAgeGroup', axis=1, inplace=True)\n",
    "\n",
    "policies.describe()\n",
    "\n"
   ]
  },
  {
   "cell_type": "code",
   "execution_count": null,
   "metadata": {
    "collapsed": false
   },
   "outputs": [],
   "source": [
    "policies.BenefitToClaimRatio.plot(kind='density', xlim=(0,1))\n",
    "plt.xlabel('Benefit To Claim Ratio')"
   ]
  },
  {
   "cell_type": "code",
   "execution_count": null,
   "metadata": {
    "collapsed": false
   },
   "outputs": [],
   "source": [
    "policies.info()"
   ]
  },
  {
   "cell_type": "code",
   "execution_count": null,
   "metadata": {
    "collapsed": false
   },
   "outputs": [],
   "source": [
    "policies.Ntile5LastPaidAmount.hist(by=policies.Cancelled, sharex=True, sharey=True)"
   ]
  },
  {
   "cell_type": "code",
   "execution_count": null,
   "metadata": {
    "collapsed": false
   },
   "outputs": [],
   "source": [
    "policies.OtherPets.hist(by=policies.Cancelled, sharex=True, sharey=True)"
   ]
  },
  {
   "cell_type": "code",
   "execution_count": null,
   "metadata": {
    "collapsed": false
   },
   "outputs": [],
   "source": [
    "colors = np.where(policies.species_code==1, 'r', 'b') #canine red\n",
    "policies.plot(kind='scatter', x='TenureInMonths', y='MOnthsSinceLastClaim', c=colors)"
   ]
  },
  {
   "cell_type": "markdown",
   "metadata": {},
   "source": [
    "## Trying Linear Regression"
   ]
  },
  {
   "cell_type": "code",
   "execution_count": null,
   "metadata": {
    "collapsed": true
   },
   "outputs": [],
   "source": [
    "# compute null accuracy manually for comparison reasosn\n",
    "print policies['Cancelled'].mean()\n",
    "print 1 - policies['Cancelled'].mean()"
   ]
  },
  {
   "cell_type": "code",
   "execution_count": null,
   "metadata": {
    "collapsed": false
   },
   "outputs": [],
   "source": [
    "#pd.scatter_matrix(policies, figsize=(30,30))"
   ]
  },
  {
   "cell_type": "code",
   "execution_count": null,
   "metadata": {
    "collapsed": true
   },
   "outputs": [],
   "source": [
    "import statsmodels.formula.api as smf"
   ]
  },
  {
   "cell_type": "code",
   "execution_count": null,
   "metadata": {
    "collapsed": false
   },
   "outputs": [],
   "source": [
    "policies.describe()"
   ]
  },
  {
   "cell_type": "code",
   "execution_count": null,
   "metadata": {
    "collapsed": false
   },
   "outputs": [],
   "source": [
    "policies.corr()"
   ]
  },
  {
   "cell_type": "code",
   "execution_count": null,
   "metadata": {
    "collapsed": false
   },
   "outputs": [],
   "source": [
    "lm = smf.ols(formula='Cancelled ~ CXMonthsFromRenewal + OtherPets + MOnthsSinceLastClaim + LastClaimStatus + PetAgeGroup', data=policies).fit()\n",
    "\n",
    "# print the coefficients\n",
    "lm.params"
   ]
  },
  {
   "cell_type": "code",
   "execution_count": null,
   "metadata": {
    "collapsed": false
   },
   "outputs": [],
   "source": [
    "lm.summary()"
   ]
  },
  {
   "cell_type": "code",
   "execution_count": null,
   "metadata": {
    "collapsed": false
   },
   "outputs": [],
   "source": [
    "policies.Cancelled.value_counts()\n",
    "# cancelled policies make up to 72.4% of the dataset so the model isn't really predicting any better"
   ]
  },
  {
   "cell_type": "code",
   "execution_count": null,
   "metadata": {
    "collapsed": false
   },
   "outputs": [],
   "source": [
    "! pip install seaborn"
   ]
  },
  {
   "cell_type": "code",
   "execution_count": null,
   "metadata": {
    "collapsed": false
   },
   "outputs": [],
   "source": [
    "plt.scatter(policies.TenureInMonths, policies.Cancelled)"
   ]
  },
  {
   "cell_type": "code",
   "execution_count": null,
   "metadata": {
    "collapsed": true
   },
   "outputs": [],
   "source": [
    "from sklearn.linear_model import LogisticRegression\n",
    "logreg = LogisticRegression(C=1e9)\n",
    "\n",
    "feature_cols = ['MOnthsSinceLastClaim']\n",
    "X = policies[feature_cols]\n",
    "y = policies.Cancelled\n",
    "logreg.fit(X, y)\n",
    "policies_pred_class = logreg.predict(X)"
   ]
  },
  {
   "cell_type": "code",
   "execution_count": null,
   "metadata": {
    "collapsed": false
   },
   "outputs": [],
   "source": [
    "# plot the class predictions\n",
    "plt.scatter(policies.MOnthsSinceLastClaim, policies.Cancelled)\n",
    "plt.plot(policies.MOnthsSinceLastClaim, policies_pred_class, color='red')"
   ]
  },
  {
   "cell_type": "code",
   "execution_count": null,
   "metadata": {
    "collapsed": false
   },
   "outputs": [],
   "source": [
    "policies_pred_prob = logreg.predict_proba(X)[:, 1]\n",
    "policies_pred_prob"
   ]
  },
  {
   "cell_type": "code",
   "execution_count": null,
   "metadata": {
    "collapsed": false
   },
   "outputs": [],
   "source": [
    "# plot the predicted probabilities\n",
    "plt.scatter(policies.MOnthsSinceLastClaim, policies.Cancelled)\n",
    "plt.plot(policies.MOnthsSinceLastClaim, policies_pred_prob, color='red')"
   ]
  },
  {
   "cell_type": "code",
   "execution_count": null,
   "metadata": {
    "collapsed": false
   },
   "outputs": [],
   "source": []
  },
  {
   "cell_type": "code",
   "execution_count": null,
   "metadata": {
    "collapsed": false
   },
   "outputs": [],
   "source": [
    "#print logreg.predict_proba(11)"
   ]
  },
  {
   "cell_type": "code",
   "execution_count": null,
   "metadata": {
    "collapsed": false
   },
   "outputs": [],
   "source": [
    "policies.describe()"
   ]
  },
  {
   "cell_type": "code",
   "execution_count": null,
   "metadata": {
    "collapsed": false
   },
   "outputs": [],
   "source": [
    "feature_cols = ['species_code','irsd_decile',\n",
    "                'State','OtherPets',\n",
    "                'MOnthsSinceLastClaim','LastClaimStatus','Ntile5LastClaimAmount','Ntile5LastPaidAmount',\n",
    "                'PortalUser','OtherMembershipNumber','ClientAgeInGroup','PetAgeGroup','PremiumDecile','InsuredGender',\n",
    "                'payment_method_code','premium_payment_period_code','ClaimedInThePast','PlanType']\n",
    "X = policies[feature_cols]\n",
    "y = policies.Cancelled"
   ]
  },
  {
   "cell_type": "code",
   "execution_count": null,
   "metadata": {
    "collapsed": true
   },
   "outputs": [],
   "source": [
    "from sklearn.cross_validation import train_test_split\n",
    "X_train, X_test, y_train, y_test = train_test_split(X, y, random_state=1)"
   ]
  },
  {
   "cell_type": "code",
   "execution_count": null,
   "metadata": {
    "collapsed": false
   },
   "outputs": [],
   "source": [
    "#from sklearn.linear_model import LogisticRegression\n",
    "#logreg = LogisticRegression()\n",
    "#logreg.fit(X_train, y_train)\n",
    "#zip(feature_cols, logreg.coef_[0])"
   ]
  },
  {
   "cell_type": "code",
   "execution_count": null,
   "metadata": {
    "collapsed": false
   },
   "outputs": [],
   "source": [
    "from sklearn.linear_model import LogisticRegression\n",
    "logreg = LogisticRegression(C=1e9)\n",
    "logreg.fit(X_train, y_train)\n",
    "Cancelled_pred_class = logreg.predict_proba(X_train)[:, 1]\n",
    "Cancelled_pred_class"
   ]
  },
  {
   "cell_type": "code",
   "execution_count": null,
   "metadata": {
    "collapsed": false
   },
   "outputs": [],
   "source": [
    "import numpy as np\n",
    "print 'no regularization =', np.sqrt(metrics.mean_squared_error(y_train, Cancelled_pred_class))"
   ]
  },
  {
   "cell_type": "code",
   "execution_count": null,
   "metadata": {
    "collapsed": false
   },
   "outputs": [],
   "source": [
    "from sklearn import metrics\n",
    "prds = logreg.predict(X)\n",
    "print metrics.confusion_matrix(y, prds)"
   ]
  },
  {
   "cell_type": "markdown",
   "metadata": {},
   "source": [
    "- Accuracy = (177710+28894)/265649 == 0.78\n",
    "- Specificity = 177710 / (177710 + 14609) == 0.92"
   ]
  },
  {
   "cell_type": "code",
   "execution_count": null,
   "metadata": {
    "collapsed": false
   },
   "outputs": [],
   "source": [
    "print metrics.accuracy_score(y, prds)"
   ]
  },
  {
   "cell_type": "markdown",
   "metadata": {},
   "source": [
    "## Trying Regularization"
   ]
  },
  {
   "cell_type": "code",
   "execution_count": null,
   "metadata": {
    "collapsed": false
   },
   "outputs": [],
   "source": [
    "from sklearn.linear_model import LassoCV\n",
    "alpha_range = 10.**np.arange(-2, 3)\n",
    "laspolicies = LassoCV(normalize=True, alphas=alpha_range)\n",
    "laspolicies.fit(X_train, y_train)\n",
    "laspolicies.alpha_\n",
    "laspolicies.coef_\n",
    "preds2 = laspolicies.predict(X_test)\n",
    "print 'Lasso CV reg =', np.sqrt(metrics.mean_squared_error(y_test, preds2))"
   ]
  },
  {
   "cell_type": "markdown",
   "metadata": {},
   "source": [
    "## Trying Decision Trees"
   ]
  },
  {
   "cell_type": "code",
   "execution_count": null,
   "metadata": {
    "collapsed": false
   },
   "outputs": [],
   "source": [
    "from sklearn import tree\n",
    "import pandas as pd\n",
    "import numpy as np\n",
    "from sklearn.cross_validation import train_test_split\n",
    "from sklearn import metrics\n",
    "import matplotlib.pyplot as plt\n",
    "\n",
    "%matplotlib inline\n",
    "\n",
    "policies.Cancelled.mean() "
   ]
  },
  {
   "cell_type": "code",
   "execution_count": null,
   "metadata": {
    "collapsed": false
   },
   "outputs": [],
   "source": [
    "cancelled = policies['Cancelled']\n",
    "\n",
    "X_train, X_test, y_train, y_test = train_test_split(policies,cancelled, random_state=1)\n",
    "\n",
    "# Create a decision tree classifier instance (start out with a small tree for interpretability)\n",
    "ctree = tree.DecisionTreeClassifier(random_state=1, max_depth=2)\n",
    "\n",
    "# Fit the decision tree classifier\n",
    "ctree.fit(X_train, y_train)\n",
    "\n"
   ]
  },
  {
   "cell_type": "code",
   "execution_count": null,
   "metadata": {
    "collapsed": false
   },
   "outputs": [],
   "source": [
    "ctree.classes_"
   ]
  },
  {
   "cell_type": "code",
   "execution_count": null,
   "metadata": {
    "collapsed": false
   },
   "outputs": [],
   "source": [
    "# Which features are the most important?\n",
    "ctree.feature_importances_\n"
   ]
  },
  {
   "cell_type": "code",
   "execution_count": null,
   "metadata": {
    "collapsed": false
   },
   "outputs": [],
   "source": [
    "# Clean up the output\n",
    "pd.DataFrame(zip(features, ctree.feature_importances_)).sort_index(by=1, ascending=False)"
   ]
  },
  {
   "cell_type": "code",
   "execution_count": null,
   "metadata": {
    "collapsed": false
   },
   "outputs": [],
   "source": [
    "# Make predictions on the test set\n",
    "preds = ctree.predict(X_test)\n",
    "\n",
    "# Calculate accuracy\n",
    "metrics.accuracy_score(y_test, preds)"
   ]
  },
  {
   "cell_type": "code",
   "execution_count": null,
   "metadata": {
    "collapsed": false
   },
   "outputs": [],
   "source": [
    "# Confusion matrix\n",
    "pd.crosstab(y_test, preds, rownames=['actual'], colnames=['predicted'])\n",
    "\n",
    "# Make predictions on the test set using predict_proba\n",
    "probs = ctree.predict_proba(X_test)[:,1]\n",
    "\n",
    "# Calculate the AUC metric\n",
    "metrics.roc_auc_score(y_test, probs)\n",
    "\n",
    "# Decision Trees have notorouisly high variance, so what can we do\n",
    "# to better estimate the out of sample error of a high variance model?"
   ]
  },
  {
   "cell_type": "code",
   "execution_count": null,
   "metadata": {
    "collapsed": false
   },
   "outputs": [],
   "source": [
    "import StringIO\n",
    "from IPython.display import Image\n",
    "import pydot\n",
    "# make sure pydot and graphviz are installed \n",
    "# if problems see here:\n",
    "# http://stackoverflow.com/questions/15951748/pydot-and-graphviz-error-couldnt-import-dot-parser-loading-of-dot-files-will/17902926#17902926\n",
    "\n",
    "dot_data = StringIO.StringIO()  \n",
    "tree.export_graphviz(\n",
    "    ctree, \n",
    "    out_file=dot_data,\n",
    "    feature_names=features,  \n",
    "    class_names=[\"cancelled\",\"active\"],  \n",
    "    filled=True, \n",
    "    rounded=True,  \n",
    "    special_characters=True\n",
    ")  \n",
    "graph = pydot.graph_from_dot_data(dot_data.getvalue())  \n",
    "Image(graph.create_png())"
   ]
  },
  {
   "cell_type": "code",
   "execution_count": null,
   "metadata": {
    "collapsed": false
   },
   "outputs": [],
   "source": [
    "policies.describe()\n"
   ]
  },
  {
   "cell_type": "code",
   "execution_count": null,
   "metadata": {
    "collapsed": false
   },
   "outputs": [],
   "source": [
    "from sklearn.linear_model import LogisticRegression\n",
    "logreg = LogisticRegression()\n",
    "ctree = tree.DecisionTreeClassifier(random_state=1, max_depth=2)\n",
    "\n",
    "# compare AUC using cross-validation\n",
    "#from sklearn.cross_validation import cross_val_score\n",
    "#cross_val_score(logreg, policies, Cancelled, cv=10, scoring='roc_auc').mean()\n",
    "#cross_val_score(ctree, policies, Cancelled, cv=10, scoring='roc_auc').mean()\n",
    "\n",
    "\n",
    "\n",
    "# so far logistic regression is winning..\n",
    "\n",
    "'''\n",
    "\n",
    "FINE-TUNING THE TREE\n",
    "\n",
    "'''\n",
    "from sklearn.grid_search import GridSearchCV\n",
    "\n",
    "\n",
    "# check CV score for max depth = 3\n",
    "ctree = tree.DecisionTreeClassifier(max_depth=3)\n",
    "np.mean(cross_val_score(ctree, policies, y_train, cv=5, scoring='roc_auc'))\n",
    "\n",
    "# check CV score for max depth = 10\n",
    "ctree = tree.DecisionTreeClassifier(max_depth=10)\n",
    "np.mean(cross_val_score(ctree, policies, y_train, cv=5, scoring='roc_auc'))"
   ]
  }
 ],
 "metadata": {
  "kernelspec": {
   "display_name": "Python 2",
   "language": "python",
   "name": "python2"
  },
  "language_info": {
   "codemirror_mode": {
    "name": "ipython",
    "version": 2
   },
   "file_extension": ".py",
   "mimetype": "text/x-python",
   "name": "python",
   "nbconvert_exporter": "python",
   "pygments_lexer": "ipython2",
   "version": "2.7.11"
  }
 },
 "nbformat": 4,
 "nbformat_minor": 0
}
