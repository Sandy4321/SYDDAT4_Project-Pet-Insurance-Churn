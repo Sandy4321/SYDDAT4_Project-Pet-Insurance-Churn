{
 "cells": [
  {
   "cell_type": "markdown",
   "metadata": {},
   "source": [
    "# Churn model for Insurance Company\n",
    "\n",
    "The first attempt will be to try to predict the drivers of churn based on a classification method. The data contains flags relevant to customers demographics, claim and service behaviour and policy characteristics."
   ]
  },
  {
   "cell_type": "code",
   "execution_count": 121,
   "metadata": {
    "collapsed": true
   },
   "outputs": [],
   "source": [
    "import pandas as pd"
   ]
  },
  {
   "cell_type": "markdown",
   "metadata": {},
   "source": [
    "###### ** Changes from dataset version 2 to version 6:**\n",
    "\n",
    "The data source had to be changed in order to address few issues/opportunities:\n",
    "- the field AvgTurnaround had too many null values. Considering that only customers who claim will have this information, I couldn't find a way to keep the information in. So, for this reason it has been excluded from the datased\n",
    "- the field CXMonthsFromRenewal also contained too many null values. The objective of the field is to provide the number of months that the policy is in the policy period, which expires every 12 months. There is a hypothesis that indicates that the customers are more likely to cancel when their policy is about to expiry\n",
    "- the data size - reduce to only use policies with 0 to 5 years of tenure\n",
    "- added data about latest claim and further demographics"
   ]
  },
  {
   "cell_type": "code",
   "execution_count": 122,
   "metadata": {
    "collapsed": false
   },
   "outputs": [],
   "source": [
    "policies = pd.read_table('ChurnModelDatasetV6.txt',index_col='no_')"
   ]
  },
  {
   "cell_type": "code",
   "execution_count": null,
   "metadata": {
    "collapsed": false
   },
   "outputs": [],
   "source": [
    "### policies.shape\n",
    "#policies.values            # underlying numpy array\n",
    "policies.info() "
   ]
  },
  {
   "cell_type": "markdown",
   "metadata": {},
   "source": [
    "**Interpreting the quantiles**\n",
    "- Ntile5LastClaimAmount - 5 tile, 1 = lowest value\n",
    "- Ntile5LastPaidAmount - 5 tile, 1 = lowest value\n",
    "- PremiumDecile - 10 tile, 1 = lowest value"
   ]
  },
  {
   "cell_type": "code",
   "execution_count": null,
   "metadata": {
    "collapsed": false
   },
   "outputs": [],
   "source": [
    "## remove columns that won't be used\n",
    "policies.columns = [c.replace(' ', '_') for c in policies.columns]\n",
    "policies.drop('premium', axis=1, inplace=True)\n",
    "policies.drop('ClientAgeInMonths', axis=1, inplace=True)\n",
    "policies.drop('PetAgeInMonths', axis=1, inplace=True)\n",
    "policies.drop('petAgeInYears', axis=1, inplace=True)\n",
    "policies.drop('ClientAgeInYears', axis=1, inplace=True)\n",
    "policies.drop('Insured_Gender', axis=1, inplace=True)\n",
    "policies.drop('Brand',axis=1,inplace=True)\n",
    "policies.info() "
   ]
  },
  {
   "cell_type": "code",
   "execution_count": null,
   "metadata": {
    "collapsed": true
   },
   "outputs": [],
   "source": [
    "%matplotlib inline\n",
    "\n",
    "import numpy as np\n",
    "import matplotlib.pyplot as plt\n",
    "plt.style.use('ggplot') # This styles the graphs in a nicer format"
   ]
  },
  {
   "cell_type": "code",
   "execution_count": null,
   "metadata": {
    "collapsed": false
   },
   "outputs": [],
   "source": [
    "policies[policies.Cancelled == 1].CXMonthsFromRenewal.plot(kind='hist', xlim=(0,20))\n",
    "#policies.CXMonthsFromRenewal.hist(by=policies.Cancelled, sharex=True, sharey=True)\n",
    "plt.xlabel('CXMonthsFromRenewal')\n"
   ]
  },
  {
   "cell_type": "code",
   "execution_count": null,
   "metadata": {
    "collapsed": false
   },
   "outputs": [],
   "source": [
    "#transforming the string values into numeric values\n",
    "\n",
    "policies.LastClaimStatus.value_counts().plot(kind='bar', title='Last Claim Status')\n",
    "policies.InsuredGender.value_counts().plot(kind='bar', title='Gender')\n",
    "policies.PlanType.value_counts().plot(kind='bar',title='PlanType')\n",
    "policies.PlanType.value_counts()\n",
    "policies.info()\n",
    "policies.premium_payment_period_code.value_counts()\n",
    "policies.payment_method_code.value_counts()\n",
    "policies.species_code.value_counts()\n",
    "policies.State.value_counts()\n",
    "policies.ClientAgeInGroup.value_counts()\n",
    "policies.PetAgeGroup.value_counts()"
   ]
  },
  {
   "cell_type": "code",
   "execution_count": null,
   "metadata": {
    "collapsed": false
   },
   "outputs": [],
   "source": [
    "policies.LastClaimStatus.replace(['No Claims', 'Accepted with Pay', 'Denied', 'Accepted no Pay', 'Other'],  [1, 2, 3, 4, 0], inplace=True)\n",
    "policies.InsuredGender.replace(['Female', 'Male'], [1, 2], inplace=True)\n",
    "policies.PlanType.replace(['Accident & GVE', 'Accident & GVE & Routine','Accident','ASIA Accident & GVE',\n",
    "                         'ASIA Accident & GVE & Routine','ASIA Accident','Accident & Routine','GVE & Routine','GVE'], \n",
    "                          [1, 2,3,1,2,3,4,4,4], inplace=True)\n",
    "policies.premium_payment_period_code.replace(['FORTNIGHTL','MONTHLY','ANNUALLY'],[1,2,3], inplace=True)\n",
    "policies.payment_method_code.replace(['CC','BANK','CHEQUE'],[1,2,3], inplace=True)\n",
    "policies.species_code.replace(['CANINE','FELINE'],[1,2], inplace=True)\n",
    "policies.State.replace(['NSW','VIC','QLD','WA','SA','ACT','TAS','NT'],[1,2,3,4,5,6,7,8], inplace=True)\n",
    "policies.ClientAgeInGroup.replace(['00-19','20-29','30-39','40-49','50-59','60-100'],[1,2,3,4,5,6],inplace=True)\n",
    "policies.PetAgeGroup.replace(['00-01','01-02','02-03','03-04','04-05','05-06','06-07','07-08','08-09','09-10','10-11','11-100'],[1,2,3,4,5,6,7,8,9,10,11,12],inplace=True)     \n",
    "policies.Cancelled.value_counts()\n",
    "policies.describe()"
   ]
  },
  {
   "cell_type": "markdown",
   "metadata": {},
   "source": [
    "**From String to values**\n",
    "- LastClaimStatus: No Claims = 1, Accepted with Pay = 2, Denied = 3, Accepted no Pay = 4, Other = 0\n",
    "- InsuredGender: Female = 1, Male = 2\n",
    "- PlanType: Accident & GVE = 1, Accident & GVE & Routine = 2, Accident = 3, ASIA Accident & GVE = 1, ASIA Accident & GVE & Routine = 2, ASIA Accident = 3, Accident & Routine =4, GVE & Routine = 4, GVE = 4\n",
    "- premium_payment_period_code: FORTNIGHTL = 1, MONTHLY = 2, ANNUALLY = 3\n",
    "- payment_method_code: CC = 1, BANK = 2, CHEQUE = 3\n",
    "- species_code: CANINE = 1, FELINE = 2\n",
    "- State: NSW = 1, VIC = 2, QLD = 3, WA = 4, SA = 5, ACT = 6, TAS = 7, NT = 8\n",
    "- ClientAgeInGroup: 00-19 = 1, 20-29 = 2, 30-39 = 3, 40-49 = 4, 50-59 = 5, 60-100 = 6\n",
    "- PetAgeGroup: 00-01 = 1, 01-02 = 2, 02-03 = 3, 03-04 = 4, 04-05 = 5, 05-06 = 6, 06-07 = 7, 07-08 = 8, 08-09 = 9, 09-10 = 10, 10-11 = 11, 11-100 = 12"
   ]
  },
  {
   "cell_type": "code",
   "execution_count": null,
   "metadata": {
    "collapsed": false
   },
   "outputs": [],
   "source": [
    "policies.BenefitToClaimRatio.plot(kind='density', xlim=(0,1))\n",
    "plt.xlabel('Benefit To Claim Ratio')"
   ]
  },
  {
   "cell_type": "code",
   "execution_count": null,
   "metadata": {
    "collapsed": false
   },
   "outputs": [],
   "source": [
    "policies.info()"
   ]
  },
  {
   "cell_type": "code",
   "execution_count": null,
   "metadata": {
    "collapsed": false
   },
   "outputs": [],
   "source": [
    "policies.Ntile5LastPaidAmount.hist(by=policies.Cancelled, sharex=True, sharey=True)"
   ]
  },
  {
   "cell_type": "code",
   "execution_count": null,
   "metadata": {
    "collapsed": false
   },
   "outputs": [],
   "source": [
    "policies.OtherPets.hist(by=policies.Cancelled, sharex=True, sharey=True)"
   ]
  },
  {
   "cell_type": "code",
   "execution_count": null,
   "metadata": {
    "collapsed": false
   },
   "outputs": [],
   "source": [
    "colors = np.where(policies.species_code==1, 'r', 'b') #canine red\n",
    "policies.plot(kind='scatter', x='TenureInMonths', y='MOnthsSinceLastClaim', c=colors)"
   ]
  },
  {
   "cell_type": "code",
   "execution_count": null,
   "metadata": {
    "collapsed": false
   },
   "outputs": [],
   "source": [
    "#pd.scatter_matrix(policies, figsize=(30,30))"
   ]
  },
  {
   "cell_type": "code",
   "execution_count": null,
   "metadata": {
    "collapsed": true
   },
   "outputs": [],
   "source": [
    "import statsmodels.formula.api as smf"
   ]
  },
  {
   "cell_type": "code",
   "execution_count": null,
   "metadata": {
    "collapsed": false
   },
   "outputs": [],
   "source": [
    "policies.describe()"
   ]
  },
  {
   "cell_type": "code",
   "execution_count": null,
   "metadata": {
    "collapsed": false
   },
   "outputs": [],
   "source": [
    "policies.corr()"
   ]
  },
  {
   "cell_type": "code",
   "execution_count": null,
   "metadata": {
    "collapsed": false
   },
   "outputs": [],
   "source": [
    "lm = smf.ols(formula='Cancelled ~ CXMonthsFromRenewal + OtherPets + MOnthsSinceLastClaim + LastClaimStatus + PetAgeGroup', data=policies).fit()\n",
    "\n",
    "# print the coefficients\n",
    "lm.params"
   ]
  },
  {
   "cell_type": "code",
   "execution_count": null,
   "metadata": {
    "collapsed": false
   },
   "outputs": [],
   "source": [
    "lm.summary()"
   ]
  },
  {
   "cell_type": "code",
   "execution_count": null,
   "metadata": {
    "collapsed": false
   },
   "outputs": [],
   "source": [
    "policies.Cancelled.value_counts()\n",
    "# cancelled policies make up to 72.4% of the dataset so the model isn't really predicting any better"
   ]
  },
  {
   "cell_type": "code",
   "execution_count": null,
   "metadata": {
    "collapsed": false
   },
   "outputs": [],
   "source": [
    "! pip install seaborn"
   ]
  },
  {
   "cell_type": "code",
   "execution_count": null,
   "metadata": {
    "collapsed": false
   },
   "outputs": [],
   "source": [
    "plt.scatter(policies.TenureInMonths, policies.Cancelled)"
   ]
  },
  {
   "cell_type": "code",
   "execution_count": null,
   "metadata": {
    "collapsed": true
   },
   "outputs": [],
   "source": [
    "from sklearn.linear_model import LogisticRegression\n",
    "logreg = LogisticRegression(C=1e9)\n",
    "\n",
    "feature_cols = ['MOnthsSinceLastClaim']\n",
    "X = policies[feature_cols]\n",
    "y = policies.Cancelled\n",
    "logreg.fit(X, y)\n",
    "policies_pred_class = logreg.predict(X)"
   ]
  },
  {
   "cell_type": "code",
   "execution_count": null,
   "metadata": {
    "collapsed": false
   },
   "outputs": [],
   "source": [
    "# plot the class predictions\n",
    "plt.scatter(policies.MOnthsSinceLastClaim, policies.Cancelled)\n",
    "plt.plot(policies.MOnthsSinceLastClaim, policies_pred_class, color='red')"
   ]
  },
  {
   "cell_type": "code",
   "execution_count": null,
   "metadata": {
    "collapsed": false
   },
   "outputs": [],
   "source": [
    "policies_pred_prob = logreg.predict_proba(X)[:, 1]\n",
    "policies_pred_prob"
   ]
  },
  {
   "cell_type": "code",
   "execution_count": null,
   "metadata": {
    "collapsed": false
   },
   "outputs": [],
   "source": [
    "# plot the predicted probabilities\n",
    "plt.scatter(policies.MOnthsSinceLastClaim, policies.Cancelled)\n",
    "plt.plot(policies.MOnthsSinceLastClaim, policies_pred_prob, color='red')"
   ]
  },
  {
   "cell_type": "code",
   "execution_count": null,
   "metadata": {
    "collapsed": false
   },
   "outputs": [],
   "source": [
    "#policies.dropna(inplace=True)\n",
    "#policies.irsd_decile"
   ]
  },
  {
   "cell_type": "code",
   "execution_count": null,
   "metadata": {
    "collapsed": false
   },
   "outputs": [],
   "source": [
    "#print logreg.predict_proba(11)"
   ]
  },
  {
   "cell_type": "code",
   "execution_count": null,
   "metadata": {
    "collapsed": false
   },
   "outputs": [],
   "source": [
    "policies.describe()"
   ]
  },
  {
   "cell_type": "code",
   "execution_count": null,
   "metadata": {
    "collapsed": false
   },
   "outputs": [],
   "source": [
    "feature_cols = ['species_code','irsd_decile',\n",
    "                'State','OtherPets',\n",
    "                'MOnthsSinceLastClaim','LastClaimStatus','Ntile5LastClaimAmount','Ntile5LastPaidAmount',\n",
    "                'PortalUser','OtherMembershipNumber','ClientAgeInGroup','PetAgeGroup','PremiumDecile','InsuredGender',\n",
    "                'payment_method_code','premium_payment_period_code','ClaimedInThePast','PlanType']\n",
    "X = policies[feature_cols]\n",
    "y = policies.Cancelled"
   ]
  },
  {
   "cell_type": "code",
   "execution_count": null,
   "metadata": {
    "collapsed": true
   },
   "outputs": [],
   "source": [
    "from sklearn.cross_validation import train_test_split\n",
    "X_train, X_test, y_train, y_test = train_test_split(X, y, random_state=1)"
   ]
  },
  {
   "cell_type": "code",
   "execution_count": null,
   "metadata": {
    "collapsed": false
   },
   "outputs": [],
   "source": [
    "#from sklearn.linear_model import LogisticRegression\n",
    "#logreg = LogisticRegression()\n",
    "#logreg.fit(X_train, y_train)\n",
    "#zip(feature_cols, logreg.coef_[0])"
   ]
  },
  {
   "cell_type": "code",
   "execution_count": null,
   "metadata": {
    "collapsed": false
   },
   "outputs": [],
   "source": [
    "from sklearn.linear_model import LogisticRegression\n",
    "logreg = LogisticRegression(C=1e9)\n",
    "logreg.fit(X_train, y_train)\n",
    "Cancelled_pred_class = logreg.predict_proba(X_train)[:, 1]\n",
    "Cancelled_pred_class"
   ]
  },
  {
   "cell_type": "code",
   "execution_count": null,
   "metadata": {
    "collapsed": false
   },
   "outputs": [],
   "source": [
    "import numpy as np\n",
    "print 'no regularization =', np.sqrt(metrics.mean_squared_error(y_train, Cancelled_pred_class))"
   ]
  },
  {
   "cell_type": "code",
   "execution_count": null,
   "metadata": {
    "collapsed": false
   },
   "outputs": [],
   "source": [
    "from sklearn import metrics\n",
    "prds = logreg.predict(X)\n",
    "print metrics.confusion_matrix(y, prds)"
   ]
  },
  {
   "cell_type": "markdown",
   "metadata": {},
   "source": [
    "- Accuracy = (177710+28894)/265649 == 0.78\n",
    "- Specificity = 177710 / (177710 + 14609) == 0.92"
   ]
  },
  {
   "cell_type": "code",
   "execution_count": 125,
   "metadata": {
    "collapsed": false
   },
   "outputs": [
    {
     "name": "stdout",
     "output_type": "stream",
     "text": [
      "0.777733023652\n"
     ]
    }
   ],
   "source": [
    "print metrics.accuracy_score(y, prds)"
   ]
  },
  {
   "cell_type": "markdown",
   "metadata": {},
   "source": [
    "## Trying Regularization"
   ]
  },
  {
   "cell_type": "code",
   "execution_count": null,
   "metadata": {
    "collapsed": false
   },
   "outputs": [],
   "source": [
    "from sklearn.linear_model import LassoCV\n",
    "alpha_range = 10.**np.arange(-2, 3)\n",
    "laspolicies = LassoCV(normalize=True, alphas=alpha_range)\n",
    "laspolicies.fit(X_train, y_train)\n",
    "laspolicies.alpha_\n",
    "laspolicies.coef_\n",
    "preds2 = laspolicies.predict(X_test)\n",
    "print 'Lasso CV reg =', np.sqrt(metrics.mean_squared_error(y_test, preds2))"
   ]
  },
  {
   "cell_type": "markdown",
   "metadata": {},
   "source": [
    "**Ian**, if this is the mean square error, does this mean that the log reg with LASSO is predicting better than the one without? If the mean square error eh 44%, what exactly does it mean? :)"
   ]
  },
  {
   "cell_type": "markdown",
   "metadata": {},
   "source": [
    "## Trying Decision Trees"
   ]
  },
  {
   "cell_type": "code",
   "execution_count": null,
   "metadata": {
    "collapsed": false
   },
   "outputs": [],
   "source": [
    "from sklearn import tree\n",
    "import pandas as pd\n",
    "import numpy as np\n",
    "from sklearn.cross_validation import train_test_split\n",
    "from sklearn import metrics\n",
    "import matplotlib.pyplot as plt\n",
    "\n",
    "%matplotlib inline\n",
    "\n",
    "policies.Cancelled.mean() "
   ]
  },
  {
   "cell_type": "code",
   "execution_count": null,
   "metadata": {
    "collapsed": false
   },
   "outputs": [],
   "source": [
    "cancelled = policies['Cancelled']\n",
    "\n",
    "X_train, X_test, y_train, y_test = train_test_split(policies,cancelled, random_state=1)\n",
    "\n",
    "# Create a decision tree classifier instance (start out with a small tree for interpretability)\n",
    "ctree = tree.DecisionTreeClassifier(random_state=1, max_depth=2)\n",
    "\n",
    "# Fit the decision tree classifier\n",
    "ctree.fit(X_train, y_train)\n",
    "\n"
   ]
  },
  {
   "cell_type": "code",
   "execution_count": null,
   "metadata": {
    "collapsed": false
   },
   "outputs": [],
   "source": [
    "ctree.classes_"
   ]
  },
  {
   "cell_type": "code",
   "execution_count": null,
   "metadata": {
    "collapsed": false
   },
   "outputs": [],
   "source": [
    "# Which features are the most important?\n",
    "ctree.feature_importances_\n"
   ]
  },
  {
   "cell_type": "code",
   "execution_count": null,
   "metadata": {
    "collapsed": false
   },
   "outputs": [],
   "source": [
    "# Clean up the output\n",
    "pd.DataFrame(zip(features, ctree.feature_importances_)).sort_index(by=1, ascending=False)"
   ]
  },
  {
   "cell_type": "code",
   "execution_count": null,
   "metadata": {
    "collapsed": false
   },
   "outputs": [],
   "source": [
    "# Make predictions on the test set\n",
    "preds = ctree.predict(X_test)\n",
    "\n",
    "# Calculate accuracy\n",
    "metrics.accuracy_score(y_test, preds)"
   ]
  },
  {
   "cell_type": "code",
   "execution_count": null,
   "metadata": {
    "collapsed": false
   },
   "outputs": [],
   "source": [
    "# Confusion matrix\n",
    "pd.crosstab(y_test, preds, rownames=['actual'], colnames=['predicted'])\n",
    "\n",
    "# Make predictions on the test set using predict_proba\n",
    "probs = ctree.predict_proba(X_test)[:,1]\n",
    "\n",
    "# Calculate the AUC metric\n",
    "metrics.roc_auc_score(y_test, probs)\n",
    "\n",
    "# Decision Trees have notorouisly high variance, so what can we do\n",
    "# to better estimate the out of sample error of a high variance model?"
   ]
  },
  {
   "cell_type": "code",
   "execution_count": null,
   "metadata": {
    "collapsed": false
   },
   "outputs": [],
   "source": [
    "import StringIO\n",
    "from IPython.display import Image\n",
    "import pydot\n",
    "# make sure pydot and graphviz are installed \n",
    "# if problems see here:\n",
    "# http://stackoverflow.com/questions/15951748/pydot-and-graphviz-error-couldnt-import-dot-parser-loading-of-dot-files-will/17902926#17902926\n",
    "\n",
    "dot_data = StringIO.StringIO()  \n",
    "tree.export_graphviz(\n",
    "    ctree, \n",
    "    out_file=dot_data,\n",
    "    feature_names=features,  \n",
    "    class_names=[\"cancelled\",\"active\"],  \n",
    "    filled=True, \n",
    "    rounded=True,  \n",
    "    special_characters=True\n",
    ")  \n",
    "graph = pydot.graph_from_dot_data(dot_data.getvalue())  \n",
    "Image(graph.create_png())"
   ]
  },
  {
   "cell_type": "code",
   "execution_count": null,
   "metadata": {
    "collapsed": false
   },
   "outputs": [],
   "source": [
    "policies.describe()\n"
   ]
  },
  {
   "cell_type": "code",
   "execution_count": null,
   "metadata": {
    "collapsed": false
   },
   "outputs": [],
   "source": [
    "from sklearn.linear_model import LogisticRegression\n",
    "logreg = LogisticRegression()\n",
    "ctree = tree.DecisionTreeClassifier(random_state=1, max_depth=2)\n",
    "\n",
    "# compare AUC using cross-validation\n",
    "#from sklearn.cross_validation import cross_val_score\n",
    "#cross_val_score(logreg, policies, Cancelled, cv=10, scoring='roc_auc').mean()\n",
    "#cross_val_score(ctree, policies, Cancelled, cv=10, scoring='roc_auc').mean()\n",
    "\n",
    "\n",
    "\n",
    "# so far logistic regression is winning..\n",
    "\n",
    "'''\n",
    "\n",
    "FINE-TUNING THE TREE\n",
    "\n",
    "'''\n",
    "from sklearn.grid_search import GridSearchCV\n",
    "\n",
    "\n",
    "# check CV score for max depth = 3\n",
    "ctree = tree.DecisionTreeClassifier(max_depth=3)\n",
    "np.mean(cross_val_score(ctree, policies, y_train, cv=5, scoring='roc_auc'))\n",
    "\n",
    "# check CV score for max depth = 10\n",
    "ctree = tree.DecisionTreeClassifier(max_depth=10)\n",
    "np.mean(cross_val_score(ctree, policies, y_train, cv=5, scoring='roc_auc'))"
   ]
  }
 ],
 "metadata": {
  "kernelspec": {
   "display_name": "Python 2",
   "language": "python",
   "name": "python2"
  },
  "language_info": {
   "codemirror_mode": {
    "name": "ipython",
    "version": 2
   },
   "file_extension": ".py",
   "mimetype": "text/x-python",
   "name": "python",
   "nbconvert_exporter": "python",
   "pygments_lexer": "ipython2",
   "version": "2.7.11"
  }
 },
 "nbformat": 4,
 "nbformat_minor": 0
}
